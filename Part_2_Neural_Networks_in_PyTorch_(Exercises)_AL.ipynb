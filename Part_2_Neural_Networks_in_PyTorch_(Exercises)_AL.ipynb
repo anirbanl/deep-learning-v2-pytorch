{
  "nbformat": 4,
  "nbformat_minor": 0,
  "metadata": {
    "kernelspec": {
      "display_name": "Python [default]",
      "language": "python",
      "name": "python3"
    },
    "language_info": {
      "codemirror_mode": {
        "name": "ipython",
        "version": 3
      },
      "file_extension": ".py",
      "mimetype": "text/x-python",
      "name": "python",
      "nbconvert_exporter": "python",
      "pygments_lexer": "ipython3",
      "version": "3.6.4"
    },
    "colab": {
      "name": "Part 2 - Neural Networks in PyTorch (Exercises)-AL.ipynb",
      "provenance": [],
      "collapsed_sections": [],
      "include_colab_link": true
    },
    "widgets": {
      "application/vnd.jupyter.widget-state+json": {
        "ed8dec3e63b8427a96c8657376854e1f": {
          "model_module": "@jupyter-widgets/controls",
          "model_name": "HBoxModel",
          "state": {
            "_view_name": "HBoxView",
            "_dom_classes": [],
            "_model_name": "HBoxModel",
            "_view_module": "@jupyter-widgets/controls",
            "_model_module_version": "1.5.0",
            "_view_count": null,
            "_view_module_version": "1.5.0",
            "box_style": "",
            "layout": "IPY_MODEL_caa37f05f99a449895ba162c3aa3049e",
            "_model_module": "@jupyter-widgets/controls",
            "children": [
              "IPY_MODEL_29c58ec699c14c17831676e36da69b49",
              "IPY_MODEL_1e5d90faba53474aa1f3de918700f68e"
            ]
          }
        },
        "caa37f05f99a449895ba162c3aa3049e": {
          "model_module": "@jupyter-widgets/base",
          "model_name": "LayoutModel",
          "state": {
            "_view_name": "LayoutView",
            "grid_template_rows": null,
            "right": null,
            "justify_content": null,
            "_view_module": "@jupyter-widgets/base",
            "overflow": null,
            "_model_module_version": "1.2.0",
            "_view_count": null,
            "flex_flow": null,
            "width": null,
            "min_width": null,
            "border": null,
            "align_items": null,
            "bottom": null,
            "_model_module": "@jupyter-widgets/base",
            "top": null,
            "grid_column": null,
            "overflow_y": null,
            "overflow_x": null,
            "grid_auto_flow": null,
            "grid_area": null,
            "grid_template_columns": null,
            "flex": null,
            "_model_name": "LayoutModel",
            "justify_items": null,
            "grid_row": null,
            "max_height": null,
            "align_content": null,
            "visibility": null,
            "align_self": null,
            "height": null,
            "min_height": null,
            "padding": null,
            "grid_auto_rows": null,
            "grid_gap": null,
            "max_width": null,
            "order": null,
            "_view_module_version": "1.2.0",
            "grid_template_areas": null,
            "object_position": null,
            "object_fit": null,
            "grid_auto_columns": null,
            "margin": null,
            "display": null,
            "left": null
          }
        },
        "29c58ec699c14c17831676e36da69b49": {
          "model_module": "@jupyter-widgets/controls",
          "model_name": "FloatProgressModel",
          "state": {
            "_view_name": "ProgressView",
            "style": "IPY_MODEL_b88f6f1ca5994e1bb30b910dfc2662f1",
            "_dom_classes": [],
            "description": "",
            "_model_name": "FloatProgressModel",
            "bar_style": "success",
            "max": 9912422,
            "_view_module": "@jupyter-widgets/controls",
            "_model_module_version": "1.5.0",
            "value": 9912422,
            "_view_count": null,
            "_view_module_version": "1.5.0",
            "orientation": "horizontal",
            "min": 0,
            "description_tooltip": null,
            "_model_module": "@jupyter-widgets/controls",
            "layout": "IPY_MODEL_578d58f4542f47d0a7e23702ee938c21"
          }
        },
        "1e5d90faba53474aa1f3de918700f68e": {
          "model_module": "@jupyter-widgets/controls",
          "model_name": "HTMLModel",
          "state": {
            "_view_name": "HTMLView",
            "style": "IPY_MODEL_e79bf8d3767446ae8157882fa4acc9cc",
            "_dom_classes": [],
            "description": "",
            "_model_name": "HTMLModel",
            "placeholder": "​",
            "_view_module": "@jupyter-widgets/controls",
            "_model_module_version": "1.5.0",
            "value": " 9913344/? [00:00&lt;00:00, 11076586.50it/s]",
            "_view_count": null,
            "_view_module_version": "1.5.0",
            "description_tooltip": null,
            "_model_module": "@jupyter-widgets/controls",
            "layout": "IPY_MODEL_bb53d8726ab34f3285f08bb2905ab979"
          }
        },
        "b88f6f1ca5994e1bb30b910dfc2662f1": {
          "model_module": "@jupyter-widgets/controls",
          "model_name": "ProgressStyleModel",
          "state": {
            "_view_name": "StyleView",
            "_model_name": "ProgressStyleModel",
            "description_width": "initial",
            "_view_module": "@jupyter-widgets/base",
            "_model_module_version": "1.5.0",
            "_view_count": null,
            "_view_module_version": "1.2.0",
            "bar_color": null,
            "_model_module": "@jupyter-widgets/controls"
          }
        },
        "578d58f4542f47d0a7e23702ee938c21": {
          "model_module": "@jupyter-widgets/base",
          "model_name": "LayoutModel",
          "state": {
            "_view_name": "LayoutView",
            "grid_template_rows": null,
            "right": null,
            "justify_content": null,
            "_view_module": "@jupyter-widgets/base",
            "overflow": null,
            "_model_module_version": "1.2.0",
            "_view_count": null,
            "flex_flow": null,
            "width": null,
            "min_width": null,
            "border": null,
            "align_items": null,
            "bottom": null,
            "_model_module": "@jupyter-widgets/base",
            "top": null,
            "grid_column": null,
            "overflow_y": null,
            "overflow_x": null,
            "grid_auto_flow": null,
            "grid_area": null,
            "grid_template_columns": null,
            "flex": null,
            "_model_name": "LayoutModel",
            "justify_items": null,
            "grid_row": null,
            "max_height": null,
            "align_content": null,
            "visibility": null,
            "align_self": null,
            "height": null,
            "min_height": null,
            "padding": null,
            "grid_auto_rows": null,
            "grid_gap": null,
            "max_width": null,
            "order": null,
            "_view_module_version": "1.2.0",
            "grid_template_areas": null,
            "object_position": null,
            "object_fit": null,
            "grid_auto_columns": null,
            "margin": null,
            "display": null,
            "left": null
          }
        },
        "e79bf8d3767446ae8157882fa4acc9cc": {
          "model_module": "@jupyter-widgets/controls",
          "model_name": "DescriptionStyleModel",
          "state": {
            "_view_name": "StyleView",
            "_model_name": "DescriptionStyleModel",
            "description_width": "",
            "_view_module": "@jupyter-widgets/base",
            "_model_module_version": "1.5.0",
            "_view_count": null,
            "_view_module_version": "1.2.0",
            "_model_module": "@jupyter-widgets/controls"
          }
        },
        "bb53d8726ab34f3285f08bb2905ab979": {
          "model_module": "@jupyter-widgets/base",
          "model_name": "LayoutModel",
          "state": {
            "_view_name": "LayoutView",
            "grid_template_rows": null,
            "right": null,
            "justify_content": null,
            "_view_module": "@jupyter-widgets/base",
            "overflow": null,
            "_model_module_version": "1.2.0",
            "_view_count": null,
            "flex_flow": null,
            "width": null,
            "min_width": null,
            "border": null,
            "align_items": null,
            "bottom": null,
            "_model_module": "@jupyter-widgets/base",
            "top": null,
            "grid_column": null,
            "overflow_y": null,
            "overflow_x": null,
            "grid_auto_flow": null,
            "grid_area": null,
            "grid_template_columns": null,
            "flex": null,
            "_model_name": "LayoutModel",
            "justify_items": null,
            "grid_row": null,
            "max_height": null,
            "align_content": null,
            "visibility": null,
            "align_self": null,
            "height": null,
            "min_height": null,
            "padding": null,
            "grid_auto_rows": null,
            "grid_gap": null,
            "max_width": null,
            "order": null,
            "_view_module_version": "1.2.0",
            "grid_template_areas": null,
            "object_position": null,
            "object_fit": null,
            "grid_auto_columns": null,
            "margin": null,
            "display": null,
            "left": null
          }
        },
        "f0ab9f8a5fdd45dc8db51087e001302e": {
          "model_module": "@jupyter-widgets/controls",
          "model_name": "HBoxModel",
          "state": {
            "_view_name": "HBoxView",
            "_dom_classes": [],
            "_model_name": "HBoxModel",
            "_view_module": "@jupyter-widgets/controls",
            "_model_module_version": "1.5.0",
            "_view_count": null,
            "_view_module_version": "1.5.0",
            "box_style": "",
            "layout": "IPY_MODEL_0c5fc1c18b074041b8e47f877205a911",
            "_model_module": "@jupyter-widgets/controls",
            "children": [
              "IPY_MODEL_f644f406af704c48b492fbab4e984011",
              "IPY_MODEL_59ad4dbe52cd4a2eb50f291ec8094d93"
            ]
          }
        },
        "0c5fc1c18b074041b8e47f877205a911": {
          "model_module": "@jupyter-widgets/base",
          "model_name": "LayoutModel",
          "state": {
            "_view_name": "LayoutView",
            "grid_template_rows": null,
            "right": null,
            "justify_content": null,
            "_view_module": "@jupyter-widgets/base",
            "overflow": null,
            "_model_module_version": "1.2.0",
            "_view_count": null,
            "flex_flow": null,
            "width": null,
            "min_width": null,
            "border": null,
            "align_items": null,
            "bottom": null,
            "_model_module": "@jupyter-widgets/base",
            "top": null,
            "grid_column": null,
            "overflow_y": null,
            "overflow_x": null,
            "grid_auto_flow": null,
            "grid_area": null,
            "grid_template_columns": null,
            "flex": null,
            "_model_name": "LayoutModel",
            "justify_items": null,
            "grid_row": null,
            "max_height": null,
            "align_content": null,
            "visibility": null,
            "align_self": null,
            "height": null,
            "min_height": null,
            "padding": null,
            "grid_auto_rows": null,
            "grid_gap": null,
            "max_width": null,
            "order": null,
            "_view_module_version": "1.2.0",
            "grid_template_areas": null,
            "object_position": null,
            "object_fit": null,
            "grid_auto_columns": null,
            "margin": null,
            "display": null,
            "left": null
          }
        },
        "f644f406af704c48b492fbab4e984011": {
          "model_module": "@jupyter-widgets/controls",
          "model_name": "FloatProgressModel",
          "state": {
            "_view_name": "ProgressView",
            "style": "IPY_MODEL_527bfddc0b224715a25212b9e94b11c9",
            "_dom_classes": [],
            "description": "",
            "_model_name": "FloatProgressModel",
            "bar_style": "success",
            "max": 28881,
            "_view_module": "@jupyter-widgets/controls",
            "_model_module_version": "1.5.0",
            "value": 28881,
            "_view_count": null,
            "_view_module_version": "1.5.0",
            "orientation": "horizontal",
            "min": 0,
            "description_tooltip": null,
            "_model_module": "@jupyter-widgets/controls",
            "layout": "IPY_MODEL_89eaad7371a64de3b787c4084e2e83ca"
          }
        },
        "59ad4dbe52cd4a2eb50f291ec8094d93": {
          "model_module": "@jupyter-widgets/controls",
          "model_name": "HTMLModel",
          "state": {
            "_view_name": "HTMLView",
            "style": "IPY_MODEL_45397fc7b446479e86050a05db141842",
            "_dom_classes": [],
            "description": "",
            "_model_name": "HTMLModel",
            "placeholder": "​",
            "_view_module": "@jupyter-widgets/controls",
            "_model_module_version": "1.5.0",
            "value": " 29696/? [00:00&lt;00:00, 210120.28it/s]",
            "_view_count": null,
            "_view_module_version": "1.5.0",
            "description_tooltip": null,
            "_model_module": "@jupyter-widgets/controls",
            "layout": "IPY_MODEL_34ac8849c97646deb7221eedf9203405"
          }
        },
        "527bfddc0b224715a25212b9e94b11c9": {
          "model_module": "@jupyter-widgets/controls",
          "model_name": "ProgressStyleModel",
          "state": {
            "_view_name": "StyleView",
            "_model_name": "ProgressStyleModel",
            "description_width": "initial",
            "_view_module": "@jupyter-widgets/base",
            "_model_module_version": "1.5.0",
            "_view_count": null,
            "_view_module_version": "1.2.0",
            "bar_color": null,
            "_model_module": "@jupyter-widgets/controls"
          }
        },
        "89eaad7371a64de3b787c4084e2e83ca": {
          "model_module": "@jupyter-widgets/base",
          "model_name": "LayoutModel",
          "state": {
            "_view_name": "LayoutView",
            "grid_template_rows": null,
            "right": null,
            "justify_content": null,
            "_view_module": "@jupyter-widgets/base",
            "overflow": null,
            "_model_module_version": "1.2.0",
            "_view_count": null,
            "flex_flow": null,
            "width": null,
            "min_width": null,
            "border": null,
            "align_items": null,
            "bottom": null,
            "_model_module": "@jupyter-widgets/base",
            "top": null,
            "grid_column": null,
            "overflow_y": null,
            "overflow_x": null,
            "grid_auto_flow": null,
            "grid_area": null,
            "grid_template_columns": null,
            "flex": null,
            "_model_name": "LayoutModel",
            "justify_items": null,
            "grid_row": null,
            "max_height": null,
            "align_content": null,
            "visibility": null,
            "align_self": null,
            "height": null,
            "min_height": null,
            "padding": null,
            "grid_auto_rows": null,
            "grid_gap": null,
            "max_width": null,
            "order": null,
            "_view_module_version": "1.2.0",
            "grid_template_areas": null,
            "object_position": null,
            "object_fit": null,
            "grid_auto_columns": null,
            "margin": null,
            "display": null,
            "left": null
          }
        },
        "45397fc7b446479e86050a05db141842": {
          "model_module": "@jupyter-widgets/controls",
          "model_name": "DescriptionStyleModel",
          "state": {
            "_view_name": "StyleView",
            "_model_name": "DescriptionStyleModel",
            "description_width": "",
            "_view_module": "@jupyter-widgets/base",
            "_model_module_version": "1.5.0",
            "_view_count": null,
            "_view_module_version": "1.2.0",
            "_model_module": "@jupyter-widgets/controls"
          }
        },
        "34ac8849c97646deb7221eedf9203405": {
          "model_module": "@jupyter-widgets/base",
          "model_name": "LayoutModel",
          "state": {
            "_view_name": "LayoutView",
            "grid_template_rows": null,
            "right": null,
            "justify_content": null,
            "_view_module": "@jupyter-widgets/base",
            "overflow": null,
            "_model_module_version": "1.2.0",
            "_view_count": null,
            "flex_flow": null,
            "width": null,
            "min_width": null,
            "border": null,
            "align_items": null,
            "bottom": null,
            "_model_module": "@jupyter-widgets/base",
            "top": null,
            "grid_column": null,
            "overflow_y": null,
            "overflow_x": null,
            "grid_auto_flow": null,
            "grid_area": null,
            "grid_template_columns": null,
            "flex": null,
            "_model_name": "LayoutModel",
            "justify_items": null,
            "grid_row": null,
            "max_height": null,
            "align_content": null,
            "visibility": null,
            "align_self": null,
            "height": null,
            "min_height": null,
            "padding": null,
            "grid_auto_rows": null,
            "grid_gap": null,
            "max_width": null,
            "order": null,
            "_view_module_version": "1.2.0",
            "grid_template_areas": null,
            "object_position": null,
            "object_fit": null,
            "grid_auto_columns": null,
            "margin": null,
            "display": null,
            "left": null
          }
        },
        "5d00763a57034b5691653824125ca24a": {
          "model_module": "@jupyter-widgets/controls",
          "model_name": "HBoxModel",
          "state": {
            "_view_name": "HBoxView",
            "_dom_classes": [],
            "_model_name": "HBoxModel",
            "_view_module": "@jupyter-widgets/controls",
            "_model_module_version": "1.5.0",
            "_view_count": null,
            "_view_module_version": "1.5.0",
            "box_style": "",
            "layout": "IPY_MODEL_1b90f600212e40478e049c19c1bda843",
            "_model_module": "@jupyter-widgets/controls",
            "children": [
              "IPY_MODEL_7bef41ad4d594885938cf5f265204710",
              "IPY_MODEL_b181d27d59f14be395a6f343244e9880"
            ]
          }
        },
        "1b90f600212e40478e049c19c1bda843": {
          "model_module": "@jupyter-widgets/base",
          "model_name": "LayoutModel",
          "state": {
            "_view_name": "LayoutView",
            "grid_template_rows": null,
            "right": null,
            "justify_content": null,
            "_view_module": "@jupyter-widgets/base",
            "overflow": null,
            "_model_module_version": "1.2.0",
            "_view_count": null,
            "flex_flow": null,
            "width": null,
            "min_width": null,
            "border": null,
            "align_items": null,
            "bottom": null,
            "_model_module": "@jupyter-widgets/base",
            "top": null,
            "grid_column": null,
            "overflow_y": null,
            "overflow_x": null,
            "grid_auto_flow": null,
            "grid_area": null,
            "grid_template_columns": null,
            "flex": null,
            "_model_name": "LayoutModel",
            "justify_items": null,
            "grid_row": null,
            "max_height": null,
            "align_content": null,
            "visibility": null,
            "align_self": null,
            "height": null,
            "min_height": null,
            "padding": null,
            "grid_auto_rows": null,
            "grid_gap": null,
            "max_width": null,
            "order": null,
            "_view_module_version": "1.2.0",
            "grid_template_areas": null,
            "object_position": null,
            "object_fit": null,
            "grid_auto_columns": null,
            "margin": null,
            "display": null,
            "left": null
          }
        },
        "7bef41ad4d594885938cf5f265204710": {
          "model_module": "@jupyter-widgets/controls",
          "model_name": "FloatProgressModel",
          "state": {
            "_view_name": "ProgressView",
            "style": "IPY_MODEL_3d047c8b8fe24201af3fd175f89e22d1",
            "_dom_classes": [],
            "description": "",
            "_model_name": "FloatProgressModel",
            "bar_style": "success",
            "max": 1648877,
            "_view_module": "@jupyter-widgets/controls",
            "_model_module_version": "1.5.0",
            "value": 1648877,
            "_view_count": null,
            "_view_module_version": "1.5.0",
            "orientation": "horizontal",
            "min": 0,
            "description_tooltip": null,
            "_model_module": "@jupyter-widgets/controls",
            "layout": "IPY_MODEL_48271c3da46943a9960c1b6e1f9409e3"
          }
        },
        "b181d27d59f14be395a6f343244e9880": {
          "model_module": "@jupyter-widgets/controls",
          "model_name": "HTMLModel",
          "state": {
            "_view_name": "HTMLView",
            "style": "IPY_MODEL_9cf6def8f503408796c0b410fec24ee4",
            "_dom_classes": [],
            "description": "",
            "_model_name": "HTMLModel",
            "placeholder": "​",
            "_view_module": "@jupyter-widgets/controls",
            "_model_module_version": "1.5.0",
            "value": " 1649664/? [00:13&lt;00:00, 124193.36it/s]",
            "_view_count": null,
            "_view_module_version": "1.5.0",
            "description_tooltip": null,
            "_model_module": "@jupyter-widgets/controls",
            "layout": "IPY_MODEL_0f949d67f64940a596682f71ca09dc79"
          }
        },
        "3d047c8b8fe24201af3fd175f89e22d1": {
          "model_module": "@jupyter-widgets/controls",
          "model_name": "ProgressStyleModel",
          "state": {
            "_view_name": "StyleView",
            "_model_name": "ProgressStyleModel",
            "description_width": "initial",
            "_view_module": "@jupyter-widgets/base",
            "_model_module_version": "1.5.0",
            "_view_count": null,
            "_view_module_version": "1.2.0",
            "bar_color": null,
            "_model_module": "@jupyter-widgets/controls"
          }
        },
        "48271c3da46943a9960c1b6e1f9409e3": {
          "model_module": "@jupyter-widgets/base",
          "model_name": "LayoutModel",
          "state": {
            "_view_name": "LayoutView",
            "grid_template_rows": null,
            "right": null,
            "justify_content": null,
            "_view_module": "@jupyter-widgets/base",
            "overflow": null,
            "_model_module_version": "1.2.0",
            "_view_count": null,
            "flex_flow": null,
            "width": null,
            "min_width": null,
            "border": null,
            "align_items": null,
            "bottom": null,
            "_model_module": "@jupyter-widgets/base",
            "top": null,
            "grid_column": null,
            "overflow_y": null,
            "overflow_x": null,
            "grid_auto_flow": null,
            "grid_area": null,
            "grid_template_columns": null,
            "flex": null,
            "_model_name": "LayoutModel",
            "justify_items": null,
            "grid_row": null,
            "max_height": null,
            "align_content": null,
            "visibility": null,
            "align_self": null,
            "height": null,
            "min_height": null,
            "padding": null,
            "grid_auto_rows": null,
            "grid_gap": null,
            "max_width": null,
            "order": null,
            "_view_module_version": "1.2.0",
            "grid_template_areas": null,
            "object_position": null,
            "object_fit": null,
            "grid_auto_columns": null,
            "margin": null,
            "display": null,
            "left": null
          }
        },
        "9cf6def8f503408796c0b410fec24ee4": {
          "model_module": "@jupyter-widgets/controls",
          "model_name": "DescriptionStyleModel",
          "state": {
            "_view_name": "StyleView",
            "_model_name": "DescriptionStyleModel",
            "description_width": "",
            "_view_module": "@jupyter-widgets/base",
            "_model_module_version": "1.5.0",
            "_view_count": null,
            "_view_module_version": "1.2.0",
            "_model_module": "@jupyter-widgets/controls"
          }
        },
        "0f949d67f64940a596682f71ca09dc79": {
          "model_module": "@jupyter-widgets/base",
          "model_name": "LayoutModel",
          "state": {
            "_view_name": "LayoutView",
            "grid_template_rows": null,
            "right": null,
            "justify_content": null,
            "_view_module": "@jupyter-widgets/base",
            "overflow": null,
            "_model_module_version": "1.2.0",
            "_view_count": null,
            "flex_flow": null,
            "width": null,
            "min_width": null,
            "border": null,
            "align_items": null,
            "bottom": null,
            "_model_module": "@jupyter-widgets/base",
            "top": null,
            "grid_column": null,
            "overflow_y": null,
            "overflow_x": null,
            "grid_auto_flow": null,
            "grid_area": null,
            "grid_template_columns": null,
            "flex": null,
            "_model_name": "LayoutModel",
            "justify_items": null,
            "grid_row": null,
            "max_height": null,
            "align_content": null,
            "visibility": null,
            "align_self": null,
            "height": null,
            "min_height": null,
            "padding": null,
            "grid_auto_rows": null,
            "grid_gap": null,
            "max_width": null,
            "order": null,
            "_view_module_version": "1.2.0",
            "grid_template_areas": null,
            "object_position": null,
            "object_fit": null,
            "grid_auto_columns": null,
            "margin": null,
            "display": null,
            "left": null
          }
        },
        "a72a9c2c796d4d98a5f7eca2e770bbec": {
          "model_module": "@jupyter-widgets/controls",
          "model_name": "HBoxModel",
          "state": {
            "_view_name": "HBoxView",
            "_dom_classes": [],
            "_model_name": "HBoxModel",
            "_view_module": "@jupyter-widgets/controls",
            "_model_module_version": "1.5.0",
            "_view_count": null,
            "_view_module_version": "1.5.0",
            "box_style": "",
            "layout": "IPY_MODEL_aa5f50d4ffa046f5be6bb10e394e8ad0",
            "_model_module": "@jupyter-widgets/controls",
            "children": [
              "IPY_MODEL_464456b406e8407b92c0a3a5dcd1b875",
              "IPY_MODEL_56b89c45fdbc4deaa79f48e7a39a0e4c"
            ]
          }
        },
        "aa5f50d4ffa046f5be6bb10e394e8ad0": {
          "model_module": "@jupyter-widgets/base",
          "model_name": "LayoutModel",
          "state": {
            "_view_name": "LayoutView",
            "grid_template_rows": null,
            "right": null,
            "justify_content": null,
            "_view_module": "@jupyter-widgets/base",
            "overflow": null,
            "_model_module_version": "1.2.0",
            "_view_count": null,
            "flex_flow": null,
            "width": null,
            "min_width": null,
            "border": null,
            "align_items": null,
            "bottom": null,
            "_model_module": "@jupyter-widgets/base",
            "top": null,
            "grid_column": null,
            "overflow_y": null,
            "overflow_x": null,
            "grid_auto_flow": null,
            "grid_area": null,
            "grid_template_columns": null,
            "flex": null,
            "_model_name": "LayoutModel",
            "justify_items": null,
            "grid_row": null,
            "max_height": null,
            "align_content": null,
            "visibility": null,
            "align_self": null,
            "height": null,
            "min_height": null,
            "padding": null,
            "grid_auto_rows": null,
            "grid_gap": null,
            "max_width": null,
            "order": null,
            "_view_module_version": "1.2.0",
            "grid_template_areas": null,
            "object_position": null,
            "object_fit": null,
            "grid_auto_columns": null,
            "margin": null,
            "display": null,
            "left": null
          }
        },
        "464456b406e8407b92c0a3a5dcd1b875": {
          "model_module": "@jupyter-widgets/controls",
          "model_name": "FloatProgressModel",
          "state": {
            "_view_name": "ProgressView",
            "style": "IPY_MODEL_e995da20f5244a1cae71f981ea1b91a5",
            "_dom_classes": [],
            "description": "",
            "_model_name": "FloatProgressModel",
            "bar_style": "success",
            "max": 4542,
            "_view_module": "@jupyter-widgets/controls",
            "_model_module_version": "1.5.0",
            "value": 4542,
            "_view_count": null,
            "_view_module_version": "1.5.0",
            "orientation": "horizontal",
            "min": 0,
            "description_tooltip": null,
            "_model_module": "@jupyter-widgets/controls",
            "layout": "IPY_MODEL_e4731b56402b47ee805e4ef65e1daf10"
          }
        },
        "56b89c45fdbc4deaa79f48e7a39a0e4c": {
          "model_module": "@jupyter-widgets/controls",
          "model_name": "HTMLModel",
          "state": {
            "_view_name": "HTMLView",
            "style": "IPY_MODEL_320344a42b904dd98b8a77b66cd4d62e",
            "_dom_classes": [],
            "description": "",
            "_model_name": "HTMLModel",
            "placeholder": "​",
            "_view_module": "@jupyter-widgets/controls",
            "_model_module_version": "1.5.0",
            "value": " 5120/? [00:12&lt;00:00, 395.28it/s]",
            "_view_count": null,
            "_view_module_version": "1.5.0",
            "description_tooltip": null,
            "_model_module": "@jupyter-widgets/controls",
            "layout": "IPY_MODEL_0f71b24d14074eda8f20733fc7d346e8"
          }
        },
        "e995da20f5244a1cae71f981ea1b91a5": {
          "model_module": "@jupyter-widgets/controls",
          "model_name": "ProgressStyleModel",
          "state": {
            "_view_name": "StyleView",
            "_model_name": "ProgressStyleModel",
            "description_width": "initial",
            "_view_module": "@jupyter-widgets/base",
            "_model_module_version": "1.5.0",
            "_view_count": null,
            "_view_module_version": "1.2.0",
            "bar_color": null,
            "_model_module": "@jupyter-widgets/controls"
          }
        },
        "e4731b56402b47ee805e4ef65e1daf10": {
          "model_module": "@jupyter-widgets/base",
          "model_name": "LayoutModel",
          "state": {
            "_view_name": "LayoutView",
            "grid_template_rows": null,
            "right": null,
            "justify_content": null,
            "_view_module": "@jupyter-widgets/base",
            "overflow": null,
            "_model_module_version": "1.2.0",
            "_view_count": null,
            "flex_flow": null,
            "width": null,
            "min_width": null,
            "border": null,
            "align_items": null,
            "bottom": null,
            "_model_module": "@jupyter-widgets/base",
            "top": null,
            "grid_column": null,
            "overflow_y": null,
            "overflow_x": null,
            "grid_auto_flow": null,
            "grid_area": null,
            "grid_template_columns": null,
            "flex": null,
            "_model_name": "LayoutModel",
            "justify_items": null,
            "grid_row": null,
            "max_height": null,
            "align_content": null,
            "visibility": null,
            "align_self": null,
            "height": null,
            "min_height": null,
            "padding": null,
            "grid_auto_rows": null,
            "grid_gap": null,
            "max_width": null,
            "order": null,
            "_view_module_version": "1.2.0",
            "grid_template_areas": null,
            "object_position": null,
            "object_fit": null,
            "grid_auto_columns": null,
            "margin": null,
            "display": null,
            "left": null
          }
        },
        "320344a42b904dd98b8a77b66cd4d62e": {
          "model_module": "@jupyter-widgets/controls",
          "model_name": "DescriptionStyleModel",
          "state": {
            "_view_name": "StyleView",
            "_model_name": "DescriptionStyleModel",
            "description_width": "",
            "_view_module": "@jupyter-widgets/base",
            "_model_module_version": "1.5.0",
            "_view_count": null,
            "_view_module_version": "1.2.0",
            "_model_module": "@jupyter-widgets/controls"
          }
        },
        "0f71b24d14074eda8f20733fc7d346e8": {
          "model_module": "@jupyter-widgets/base",
          "model_name": "LayoutModel",
          "state": {
            "_view_name": "LayoutView",
            "grid_template_rows": null,
            "right": null,
            "justify_content": null,
            "_view_module": "@jupyter-widgets/base",
            "overflow": null,
            "_model_module_version": "1.2.0",
            "_view_count": null,
            "flex_flow": null,
            "width": null,
            "min_width": null,
            "border": null,
            "align_items": null,
            "bottom": null,
            "_model_module": "@jupyter-widgets/base",
            "top": null,
            "grid_column": null,
            "overflow_y": null,
            "overflow_x": null,
            "grid_auto_flow": null,
            "grid_area": null,
            "grid_template_columns": null,
            "flex": null,
            "_model_name": "LayoutModel",
            "justify_items": null,
            "grid_row": null,
            "max_height": null,
            "align_content": null,
            "visibility": null,
            "align_self": null,
            "height": null,
            "min_height": null,
            "padding": null,
            "grid_auto_rows": null,
            "grid_gap": null,
            "max_width": null,
            "order": null,
            "_view_module_version": "1.2.0",
            "grid_template_areas": null,
            "object_position": null,
            "object_fit": null,
            "grid_auto_columns": null,
            "margin": null,
            "display": null,
            "left": null
          }
        }
      }
    }
  },
  "cells": [
    {
      "cell_type": "markdown",
      "metadata": {
        "id": "view-in-github",
        "colab_type": "text"
      },
      "source": [
        "<a href=\"https://colab.research.google.com/github/anirbanl/deep-learning-v2-pytorch/blob/master/Part_2_Neural_Networks_in_PyTorch_(Exercises)_AL.ipynb\" target=\"_parent\"><img src=\"https://colab.research.google.com/assets/colab-badge.svg\" alt=\"Open In Colab\"/></a>"
      ]
    },
    {
      "cell_type": "markdown",
      "metadata": {
        "id": "Gx7Jwb2jjDvW"
      },
      "source": [
        "# Neural networks with PyTorch\n",
        "\n",
        "Deep learning networks tend to be massive with dozens or hundreds of layers, that's where the term \"deep\" comes from. You can build one of these deep networks using only weight matrices as we did in the previous notebook, but in general it's very cumbersome and difficult to implement. PyTorch has a nice module `nn` that provides a nice way to efficiently build large neural networks."
      ]
    },
    {
      "cell_type": "code",
      "metadata": {
        "collapsed": true,
        "id": "OV9FXbxSjDvc"
      },
      "source": [
        "# Import necessary packages\n",
        "\n",
        "%matplotlib inline\n",
        "%config InlineBackend.figure_format = 'retina'\n",
        "\n",
        "import numpy as np\n",
        "import torch\n",
        "\n",
        "import helper\n",
        "\n",
        "import matplotlib.pyplot as plt"
      ],
      "execution_count": 1,
      "outputs": []
    },
    {
      "cell_type": "markdown",
      "metadata": {
        "id": "O3iVHTwYjDvd"
      },
      "source": [
        "\n",
        "Now we're going to build a larger network that can solve a (formerly) difficult problem, identifying text in an image. Here we'll use the MNIST dataset which consists of greyscale handwritten digits. Each image is 28x28 pixels, you can see a sample below\n",
        "\n",
        "<img src='https://github.com/anirbanl/deep-learning-v2-pytorch/blob/master/intro-to-pytorch/assets/mnist.png?raw=1'>\n",
        "\n",
        "Our goal is to build a neural network that can take one of these images and predict the digit in the image.\n",
        "\n",
        "First up, we need to get our dataset. This is provided through the `torchvision` package. The code below will download the MNIST dataset, then create training and test datasets for us. Don't worry too much about the details here, you'll learn more about this later."
      ]
    },
    {
      "cell_type": "code",
      "metadata": {
        "collapsed": true,
        "id": "jcpiMjOtjDve",
        "colab": {
          "base_uri": "https://localhost:8080/",
          "height": 448,
          "referenced_widgets": [
            "ed8dec3e63b8427a96c8657376854e1f",
            "caa37f05f99a449895ba162c3aa3049e",
            "29c58ec699c14c17831676e36da69b49",
            "1e5d90faba53474aa1f3de918700f68e",
            "b88f6f1ca5994e1bb30b910dfc2662f1",
            "578d58f4542f47d0a7e23702ee938c21",
            "e79bf8d3767446ae8157882fa4acc9cc",
            "bb53d8726ab34f3285f08bb2905ab979",
            "f0ab9f8a5fdd45dc8db51087e001302e",
            "0c5fc1c18b074041b8e47f877205a911",
            "f644f406af704c48b492fbab4e984011",
            "59ad4dbe52cd4a2eb50f291ec8094d93",
            "527bfddc0b224715a25212b9e94b11c9",
            "89eaad7371a64de3b787c4084e2e83ca",
            "45397fc7b446479e86050a05db141842",
            "34ac8849c97646deb7221eedf9203405",
            "5d00763a57034b5691653824125ca24a",
            "1b90f600212e40478e049c19c1bda843",
            "7bef41ad4d594885938cf5f265204710",
            "b181d27d59f14be395a6f343244e9880",
            "3d047c8b8fe24201af3fd175f89e22d1",
            "48271c3da46943a9960c1b6e1f9409e3",
            "9cf6def8f503408796c0b410fec24ee4",
            "0f949d67f64940a596682f71ca09dc79",
            "a72a9c2c796d4d98a5f7eca2e770bbec",
            "aa5f50d4ffa046f5be6bb10e394e8ad0",
            "464456b406e8407b92c0a3a5dcd1b875",
            "56b89c45fdbc4deaa79f48e7a39a0e4c",
            "e995da20f5244a1cae71f981ea1b91a5",
            "e4731b56402b47ee805e4ef65e1daf10",
            "320344a42b904dd98b8a77b66cd4d62e",
            "0f71b24d14074eda8f20733fc7d346e8"
          ]
        },
        "outputId": "a6147960-2037-455b-d1bd-60c29b347593"
      },
      "source": [
        "### Run this cell\n",
        "\n",
        "from torchvision import datasets, transforms\n",
        "\n",
        "# Define a transform to normalize the data\n",
        "transform = transforms.Compose([transforms.ToTensor(),\n",
        "                              transforms.Normalize((0.5,), (0.5,)),\n",
        "                              ])\n",
        "\n",
        "# Download and load the training data\n",
        "trainset = datasets.MNIST('~/.pytorch/MNIST_data/', download=True, train=True, transform=transform)\n",
        "trainloader = torch.utils.data.DataLoader(trainset, batch_size=64, shuffle=True)"
      ],
      "execution_count": 2,
      "outputs": [
        {
          "output_type": "stream",
          "text": [
            "Downloading http://yann.lecun.com/exdb/mnist/train-images-idx3-ubyte.gz to /root/.pytorch/MNIST_data/MNIST/raw/train-images-idx3-ubyte.gz\n"
          ],
          "name": "stdout"
        },
        {
          "output_type": "display_data",
          "data": {
            "application/vnd.jupyter.widget-view+json": {
              "model_id": "ed8dec3e63b8427a96c8657376854e1f",
              "version_minor": 0,
              "version_major": 2
            },
            "text/plain": [
              "HBox(children=(FloatProgress(value=0.0, max=9912422.0), HTML(value='')))"
            ]
          },
          "metadata": {
            "tags": []
          }
        },
        {
          "output_type": "stream",
          "text": [
            "\n",
            "Extracting /root/.pytorch/MNIST_data/MNIST/raw/train-images-idx3-ubyte.gz to /root/.pytorch/MNIST_data/MNIST/raw\n",
            "Downloading http://yann.lecun.com/exdb/mnist/train-labels-idx1-ubyte.gz to /root/.pytorch/MNIST_data/MNIST/raw/train-labels-idx1-ubyte.gz\n"
          ],
          "name": "stdout"
        },
        {
          "output_type": "display_data",
          "data": {
            "application/vnd.jupyter.widget-view+json": {
              "model_id": "f0ab9f8a5fdd45dc8db51087e001302e",
              "version_minor": 0,
              "version_major": 2
            },
            "text/plain": [
              "HBox(children=(FloatProgress(value=0.0, max=28881.0), HTML(value='')))"
            ]
          },
          "metadata": {
            "tags": []
          }
        },
        {
          "output_type": "stream",
          "text": [
            "\n",
            "Extracting /root/.pytorch/MNIST_data/MNIST/raw/train-labels-idx1-ubyte.gz to /root/.pytorch/MNIST_data/MNIST/raw\n",
            "Downloading http://yann.lecun.com/exdb/mnist/t10k-images-idx3-ubyte.gz to /root/.pytorch/MNIST_data/MNIST/raw/t10k-images-idx3-ubyte.gz\n"
          ],
          "name": "stdout"
        },
        {
          "output_type": "display_data",
          "data": {
            "application/vnd.jupyter.widget-view+json": {
              "model_id": "5d00763a57034b5691653824125ca24a",
              "version_minor": 0,
              "version_major": 2
            },
            "text/plain": [
              "HBox(children=(FloatProgress(value=0.0, max=1648877.0), HTML(value='')))"
            ]
          },
          "metadata": {
            "tags": []
          }
        },
        {
          "output_type": "stream",
          "text": [
            "\n",
            "Extracting /root/.pytorch/MNIST_data/MNIST/raw/t10k-images-idx3-ubyte.gz to /root/.pytorch/MNIST_data/MNIST/raw\n",
            "Downloading http://yann.lecun.com/exdb/mnist/t10k-labels-idx1-ubyte.gz to /root/.pytorch/MNIST_data/MNIST/raw/t10k-labels-idx1-ubyte.gz\n"
          ],
          "name": "stdout"
        },
        {
          "output_type": "display_data",
          "data": {
            "application/vnd.jupyter.widget-view+json": {
              "model_id": "a72a9c2c796d4d98a5f7eca2e770bbec",
              "version_minor": 0,
              "version_major": 2
            },
            "text/plain": [
              "HBox(children=(FloatProgress(value=0.0, max=4542.0), HTML(value='')))"
            ]
          },
          "metadata": {
            "tags": []
          }
        },
        {
          "output_type": "stream",
          "text": [
            "\n",
            "Extracting /root/.pytorch/MNIST_data/MNIST/raw/t10k-labels-idx1-ubyte.gz to /root/.pytorch/MNIST_data/MNIST/raw\n",
            "Processing...\n",
            "Done!\n"
          ],
          "name": "stdout"
        },
        {
          "output_type": "stream",
          "text": [
            "/usr/local/lib/python3.7/dist-packages/torchvision/datasets/mnist.py:479: UserWarning: The given NumPy array is not writeable, and PyTorch does not support non-writeable tensors. This means you can write to the underlying (supposedly non-writeable) NumPy array using the tensor. You may want to copy the array to protect its data or make it writeable before converting it to a tensor. This type of warning will be suppressed for the rest of this program. (Triggered internally at  /pytorch/torch/csrc/utils/tensor_numpy.cpp:143.)\n",
            "  return torch.from_numpy(parsed.astype(m[2], copy=False)).view(*s)\n"
          ],
          "name": "stderr"
        }
      ]
    },
    {
      "cell_type": "markdown",
      "metadata": {
        "id": "uV_I3NRVjDve"
      },
      "source": [
        "We have the training data loaded into `trainloader` and we make that an iterator with `iter(trainloader)`. Later, we'll use this to loop through the dataset for training, like\n",
        "\n",
        "```python\n",
        "for image, label in trainloader:\n",
        "    ## do things with images and labels\n",
        "```\n",
        "\n",
        "You'll notice I created the `trainloader` with a batch size of 64, and `shuffle=True`. The batch size is the number of images we get in one iteration from the data loader and pass through our network, often called a *batch*. And `shuffle=True` tells it to shuffle the dataset every time we start going through the data loader again. But here I'm just grabbing the first batch so we can check out the data. We can see below that `images` is just a tensor with size `(64, 1, 28, 28)`. So, 64 images per batch, 1 color channel, and 28x28 images."
      ]
    },
    {
      "cell_type": "code",
      "metadata": {
        "collapsed": true,
        "id": "WCjnwgbRjDvf",
        "colab": {
          "base_uri": "https://localhost:8080/"
        },
        "outputId": "a8a206a5-a3d7-4862-f1b5-311a75ad3206"
      },
      "source": [
        "dataiter = iter(trainloader)\n",
        "images, labels = dataiter.next()\n",
        "print(type(images))\n",
        "print(images.shape)\n",
        "print(labels.shape)"
      ],
      "execution_count": 3,
      "outputs": [
        {
          "output_type": "stream",
          "text": [
            "<class 'torch.Tensor'>\n",
            "torch.Size([64, 1, 28, 28])\n",
            "torch.Size([64])\n"
          ],
          "name": "stdout"
        }
      ]
    },
    {
      "cell_type": "markdown",
      "metadata": {
        "id": "ftPo5tdKjDvf"
      },
      "source": [
        "This is what one of the images looks like. "
      ]
    },
    {
      "cell_type": "code",
      "metadata": {
        "collapsed": true,
        "id": "ZZZfFNYTjDvg",
        "colab": {
          "base_uri": "https://localhost:8080/",
          "height": 264
        },
        "outputId": "b024c934-d877-49c5-e5dc-8f340398f0f8"
      },
      "source": [
        "plt.imshow(images[1].numpy().squeeze(), cmap='Greys_r');"
      ],
      "execution_count": 4,
      "outputs": [
        {
          "output_type": "display_data",
          "data": {
            "image/png": "[encoded data removed]",
            "text/plain": [
              "<Figure size 432x288 with 1 Axes>"
            ]
          },
          "metadata": {
            "tags": [],
            "image/png": {
              "width": 251,
              "height": 248
            },
            "needs_background": "light"
          }
        }
      ]
    },
    {
      "cell_type": "markdown",
      "metadata": {
        "id": "12ZglNJWjDvg"
      },
      "source": [
        "First, let's try to build a simple network for this dataset using weight matrices and matrix multiplications. Then, we'll see how to do it using PyTorch's `nn` module which provides a much more convenient and powerful method for defining network architectures.\n",
        "\n",
        "The networks you've seen so far are called *fully-connected* or *dense* networks. Each unit in one layer is connected to each unit in the next layer. In fully-connected networks, the input to each layer must be a one-dimensional vector (which can be stacked into a 2D tensor as a batch of multiple examples). However, our images are 28x28 2D tensors, so we need to convert them into 1D vectors. Thinking about sizes, we need to convert the batch of images with shape `(64, 1, 28, 28)` to a have a shape of `(64, 784)`, 784 is 28 times 28. This is typically called *flattening*, we flattened the 2D images into 1D vectors.\n",
        "\n",
        "Previously you built a network with one output unit. Here we need 10 output units, one for each digit. We want our network to predict the digit shown in an image, so what we'll do is calculate probabilities that the image is of any one digit or class. This ends up being a discrete probability distribution over the classes (digits) that tells us the most likely class for the image. That means we need 10 output units for the 10 classes (digits). We'll see how to convert the network output into a probability distribution next.\n",
        "\n",
        "> **Exercise:** Flatten the batch of images `images`. Then build a multi-layer network with 784 input units, 256 hidden units, and 10 output units using random tensors for the weights and biases. For now, use a sigmoid activation for the hidden layer. Leave the output layer without an activation, we'll add one that gives us a probability distribution next."
      ]
    },
    {
      "cell_type": "code",
      "metadata": {
        "collapsed": true,
        "id": "a2pk8u6CjDvh",
        "colab": {
          "base_uri": "https://localhost:8080/"
        },
        "outputId": "0152aa9e-0fe5-4c91-e417-d9b103a7d000"
      },
      "source": [
        "## Your solution\n",
        "images_flat = images.reshape(-1, 28*28)\n",
        "W1 = torch.randn(784, 256)\n",
        "B1 = torch.randn(1, 256)\n",
        "W2 = torch.randn(256, 10)\n",
        "B2 = torch.randn(1, 10)\n",
        "h1 = torch.matmul(images_flat, W1)+B1\n",
        "\n",
        "out = torch.matmul(h1, W2)+B2# output of your network, should have shape (64,10)\n",
        "print(out.shape)\n",
        "print(out)"
      ],
      "execution_count": 10,
      "outputs": [
        {
          "output_type": "stream",
          "text": [
            "torch.Size([64, 10])\n",
            "tensor([[  677.3129,   -67.8758,   694.7262,  -498.4141,   -76.1444,  -789.6169,\n",
            "           333.7080,  -391.6986,   570.9214,  -580.6656],\n",
            "        [  460.3955,  -221.8960,   753.9402,  -320.1797,   390.6060,  -822.7808,\n",
            "           622.0942,    66.3808,   348.9953,  -759.5645],\n",
            "        [  657.3481,  -109.2028,   692.6332,  -432.7629,    68.6387,  -619.4039,\n",
            "           237.8521,  -157.3646,   333.4118,  -655.5724],\n",
            "        [  895.2845,  -102.0492,   514.5775,   -87.8599,  -211.0660,  -779.4971,\n",
            "           185.4425,  -200.6595,   458.0502,  -253.1047],\n",
            "        [  662.9167,   281.6699,   618.8967,  -589.3151,   337.7009,  -884.2841,\n",
            "           505.2518,   279.6656,   530.0723,  -586.0267],\n",
            "        [  500.6099,    51.7120,   767.4453,  -353.7261,   332.0414,  -871.9349,\n",
            "           454.7874,   302.7842,   439.9046,  -699.6703],\n",
            "        [  730.5985,  -287.1423,   594.4169,  -492.9889,   186.0046,  -615.8741,\n",
            "           422.2891,    62.1776,   302.3743,  -603.6347],\n",
            "        [  990.2291,  -223.4917,   684.7545,  -186.6742,   436.5905,  -843.3931,\n",
            "           602.9111,   -72.6003,    82.8017,  -657.9902],\n",
            "        [  380.7635,   -98.0779,   443.1458,  -507.5946,   291.1283, -1075.5105,\n",
            "           600.2003,   -89.8266,   -94.7947,   -43.2763],\n",
            "        [  102.0588,   -77.6145,   407.1084,  -572.7785,   186.9677, -1138.8296,\n",
            "           543.7548,  -294.5228,   205.8901,  -539.1504],\n",
            "        [  118.6689,   -28.0908,   517.6591,  -426.1722,   166.9418,  -956.2014,\n",
            "           541.9759,   -51.1379,    55.3794,  -343.3077],\n",
            "        [  258.9996,   559.6893,   372.8954,  -630.7693,   275.4418, -1251.3922,\n",
            "           426.0353,  -439.4148,   143.2250,  -567.6113],\n",
            "        [  780.1047,   -33.9272,   496.6158,  -606.0883,   285.7600,  -654.5540,\n",
            "           492.9332,    17.6988,   163.8953,  -609.3745],\n",
            "        [  685.1337,   -36.4207,   350.7224,  -634.9438,   114.2130,  -959.3978,\n",
            "           527.6534,   105.9488,   -77.9727,  -324.9276],\n",
            "        [  695.3220,   187.6477,   463.5124,  -530.1072,     9.0962,  -825.8424,\n",
            "           439.3937,    -6.3827,   351.7478,  -607.3214],\n",
            "        [  715.3216,     4.3203,   707.3022,  -555.5179,   152.2070,  -794.6366,\n",
            "           158.2183,  -258.3232,   262.1377,  -367.9256],\n",
            "        [  464.3378,   235.1297,   636.5562,  -486.4653,    32.9700,  -931.1667,\n",
            "           100.7344,  -522.9637,   -43.5415,  -358.1291],\n",
            "        [  390.6245,  -215.6115,   480.2856,  -664.4974,   205.3790,  -911.7802,\n",
            "            97.7065,  -178.5524,   114.7757,  -367.8600],\n",
            "        [  514.3049,    62.9140,   477.6142,  -874.9694,    47.4462,  -850.0920,\n",
            "           307.6985,  -302.0124,   382.8689,  -738.5377],\n",
            "        [  989.1138,   262.4925,   667.1368,  -270.9454,   384.1483,  -833.7654,\n",
            "           655.1498,   -37.9878,   169.2132,  -614.4847],\n",
            "        [  765.8589,  -151.4092,   551.6688,  -470.0770,    13.9863,  -591.3763,\n",
            "           568.9290,   -50.3448,   270.7335,  -301.8420],\n",
            "        [  355.1984,  -219.6001,   582.5724,  -436.8508,    54.0043,  -925.0858,\n",
            "           173.7766,    60.6669,   255.4460,  -960.7856],\n",
            "        [  286.1207,  -264.2249,   692.7343,  -809.7460,   362.6349, -1068.5906,\n",
            "           631.6938,    10.9148,   305.5043,  -833.6925],\n",
            "        [  521.9165,  -189.4391,   326.9803,  -723.2582,   140.7783,  -588.0405,\n",
            "           -67.1938,   -93.8088,   432.5312,  -496.7904],\n",
            "        [   98.4879,   172.7146,   401.3134,  -789.1362,  -382.0234,  -720.4720,\n",
            "           278.1196,  -131.5831,    52.8946,  -272.0872],\n",
            "        [  497.9362,   200.5388,   752.4374,  -563.0070,   245.1892,  -953.1095,\n",
            "           350.7788,  -324.1292,   486.3861,  -645.6161],\n",
            "        [  457.3361,   217.0632,   326.6019,  -626.7759,   135.1622,  -357.0924,\n",
            "           538.7349,   366.5004,   -72.4871,  -709.1125],\n",
            "        [  347.7949,  -416.4352,   867.1104,  -528.8397,  -207.1395,  -794.8366,\n",
            "           313.2537,   189.4490,   457.6831,  -694.3189],\n",
            "        [  879.6989,  -300.2757,   628.0918,  -151.1280,   -10.2290,  -853.6646,\n",
            "           160.8988,   -52.5332,   232.8868,  -622.3408],\n",
            "        [  427.2893,   177.0062,   646.1264,  -752.6948,   416.6450,  -986.1271,\n",
            "           872.8757,    38.4826,   297.1414,  -494.8896],\n",
            "        [  811.4201,  -318.0999,   967.6589,  -446.5313,   175.0125,  -593.6996,\n",
            "           447.2697,  -145.6358,   243.4725,  -488.4279],\n",
            "        [  534.2258,    95.3500,   714.3819,  -299.3700,  -240.6101,  -150.2297,\n",
            "           282.2227,  -614.5972,  -186.7048,  -700.1707],\n",
            "        [  590.6072,  -404.8836,   427.9848,  -555.1796,   219.7728, -1082.8557,\n",
            "           399.3044,     8.7434,   220.9045,  -601.9526],\n",
            "        [  110.2239,  -177.5234,   611.5468,  -960.2579,   -68.2704, -1073.1437,\n",
            "           729.5912,   114.5889,   249.1629,  -451.4268],\n",
            "        [  791.3735,   -31.9488,   539.7646,  -617.1192,   340.3717, -1069.9580,\n",
            "           160.1246,    38.2720,   273.8264,  -670.3606],\n",
            "        [  553.3636,  -208.8041,   548.3323,  -693.1437,   -64.1238,  -822.9526,\n",
            "           868.1478,  -184.7471,   451.3523,  -819.0098],\n",
            "        [  697.5709,  -153.9353,   531.5909,  -435.4830,  -294.7754,  -730.0930,\n",
            "           568.0019,    80.5218,   373.1216,  -564.4858],\n",
            "        [  463.5406,   -98.0266,   739.7673,  -538.3054,   -12.4239, -1000.2910,\n",
            "           424.0526,   180.0572,   466.7457,  -557.9174],\n",
            "        [  320.1146,   479.2975,   188.3050,  -563.7618,   319.0689,  -733.1559,\n",
            "           128.6204,  -414.5862,  -340.6876,  -411.0001],\n",
            "        [  455.0561,  -328.4254,   559.8506,  -488.8807,    -4.6147,  -999.0611,\n",
            "           -64.1589,  -463.1234,   658.3926,  -731.7069],\n",
            "        [  731.7183,  -215.3828,   523.3999,  -578.4277,   190.6998, -1181.1541,\n",
            "           778.4839,    61.1575,   281.0486,  -269.2459],\n",
            "        [  693.0519,  -313.6931,   824.4622,  -294.9213,   158.0392,  -800.6524,\n",
            "          -167.6869,  -303.4297,   526.3392,  -643.6148],\n",
            "        [  562.1224,  -222.6294,   632.4673,  -449.4823,    31.1510,  -904.8128,\n",
            "            82.8459,    83.6881,   495.1078,  -696.2128],\n",
            "        [  701.9568,    32.9027,   591.8257,  -670.8091,  -235.7481,  -293.3326,\n",
            "           957.0385,  -257.2722,   147.4745,  -437.1614],\n",
            "        [  678.6998,  -238.2000,   594.0396,  -595.7457,    83.9186,  -934.8394,\n",
            "           907.1390,     2.1644,   143.3294,  -603.4712],\n",
            "        [  559.2569,    21.9452,   600.5822,  -724.0239,     1.8872,  -966.6103,\n",
            "           205.0018,  -439.0453,   548.1473,  -577.1788],\n",
            "        [  447.0727,  -117.7730,  1048.8424,  -499.0103,  -226.5758,  -306.0479,\n",
            "           220.7793,  -394.5489,  -542.2264,   -27.3399],\n",
            "        [  396.9433,  -306.4209,   634.6914,  -721.6240,   464.8943,  -875.2037,\n",
            "           532.3739,    94.0919,   243.9481,  -515.2815],\n",
            "        [  827.9861,  -124.5243,   774.2434,  -106.4446,   170.2948,  -599.8518,\n",
            "           293.3062,    98.2632,   372.2752,  -174.5685],\n",
            "        [  759.4302,   -92.8977,   678.0931,  -271.6808,   271.1484,  -809.7686,\n",
            "           345.2119,  -298.2593,  -310.9834,  -490.2275],\n",
            "        [  895.8719,  -116.2871,   512.4996,  -492.2343,   115.0676,  -841.4341,\n",
            "           263.6234,   -20.3746,  -102.5134,  -490.7598],\n",
            "        [  636.1733,  -415.9871,   555.7965,  -548.8641,  -142.6643,  -487.4834,\n",
            "           149.5704,  -415.8906,   117.6308,  -118.9135],\n",
            "        [  623.9893,   -99.9111,   505.5983,  -592.4119,    89.9275,  -709.1146,\n",
            "           425.6539,    68.6400,    76.4132,  -385.6493],\n",
            "        [  585.1203,   -60.6745,   434.2940,  -930.7358,   125.1362,  -492.1774,\n",
            "           154.3733,  -250.7240,   300.8787,  -491.9026],\n",
            "        [  931.2192,   337.4680,   588.7694,  -352.3807,   384.7640,  -826.8198,\n",
            "           628.8452,  -213.1154,   136.9375,  -606.9912],\n",
            "        [  653.8946,    14.2777,   709.4734,  -353.5237,  -100.7393,  -808.3191,\n",
            "           145.8264,  -168.7237,   504.2977,  -913.8056],\n",
            "        [  578.8092,   -63.5523,   357.6921,  -774.5859,    18.2391,  -768.4690,\n",
            "           643.0085,  -186.2457,   -14.0952,  -554.0124],\n",
            "        [  615.4728,    71.7259,   889.9282,  -474.7155,   310.4540,  -780.6655,\n",
            "           628.5447,   249.4241,   326.6201,  -571.4297],\n",
            "        [  702.8638,  -359.3362,   572.0712,  -325.8430,   210.0310,  -894.3951,\n",
            "           384.8728,  -203.0699,   391.8208,  -798.5804],\n",
            "        [  698.1651,  -153.4608,   831.5452,  -252.1930,   191.2686,  -752.1018,\n",
            "             2.8322,  -430.0555,  -485.2477,  -339.6711],\n",
            "        [  163.4718,   -87.1537,   104.3922,  -568.7266,  -813.1881,  -717.8623,\n",
            "            96.0077,  -428.8630,   324.4707,  -323.9681],\n",
            "        [  890.9425,   -16.3051,   575.1124,  -359.1938,   298.6279,  -672.7474,\n",
            "           369.6848,    88.1801,    57.3037,  -472.0899],\n",
            "        [  804.0006,    66.7296,   472.0546,  -619.0789,   507.8447,  -626.8257,\n",
            "           435.1472,    88.3649,    97.3002,  -681.9307],\n",
            "        [  786.6818,   -98.4778,   734.7778,  -546.9578,   176.1716,  -819.5830,\n",
            "           381.8623,   262.7099,   205.7442,  -275.6641]])\n"
          ],
          "name": "stdout"
        }
      ]
    },
    {
      "cell_type": "markdown",
      "metadata": {
        "id": "FjAAX9tIjDvh"
      },
      "source": [
        "Now we have 10 outputs for our network. We want to pass in an image to our network and get out a probability distribution over the classes that tells us the likely class(es) the image belongs to. Something that looks like this:\n",
        "<img src='https://github.com/anirbanl/deep-learning-v2-pytorch/blob/master/intro-to-pytorch/assets/image_distribution.png?raw=1' width=500px>\n",
        "\n",
        "Here we see that the probability for each class is roughly the same. This is representing an untrained network, it hasn't seen any data yet so it just returns a uniform distribution with equal probabilities for each class.\n",
        "\n",
        "To calculate this probability distribution, we often use the [**softmax** function](https://en.wikipedia.org/wiki/Softmax_function). Mathematically this looks like\n",
        "\n",
        "$$\n",
        "\\Large \\sigma(x_i) = \\cfrac{e^{x_i}}{\\sum_k^K{e^{x_k}}}\n",
        "$$\n",
        "\n",
        "What this does is squish each input $x_i$ between 0 and 1 and normalizes the values to give you a proper probability distribution where the probabilites sum up to one.\n",
        "\n",
        "> **Exercise:** Implement a function `softmax` that performs the softmax calculation and returns probability distributions for each example in the batch. Note that you'll need to pay attention to the shapes when doing this. If you have a tensor `a` with shape `(64, 10)` and a tensor `b` with shape `(64,)`, doing `a/b` will give you an error because PyTorch will try to do the division across the columns (called broadcasting) but you'll get a size mismatch. The way to think about this is for each of the 64 examples, you only want to divide by one value, the sum in the denominator. So you need `b` to have a shape of `(64, 1)`. This way PyTorch will divide the 10 values in each row of `a` by the one value in each row of `b`. Pay attention to how you take the sum as well. You'll need to define the `dim` keyword in `torch.sum`. Setting `dim=0` takes the sum across the rows while `dim=1` takes the sum across the columns."
      ]
    },
    {
      "cell_type": "code",
      "metadata": {
        "collapsed": true,
        "id": "UCIgPFKBjDvi",
        "colab": {
          "base_uri": "https://localhost:8080/"
        },
        "outputId": "93337593-3df7-4195-82b7-9166d01b4f62"
      },
      "source": [
        "def softmax(x):\n",
        "    ## TODO: Implement the softmax function here\n",
        "    logits = x - torch.max(x, dim=1).values.reshape(-1, 1)\n",
        "    exp = torch.exp(logits)\n",
        "    exp_sum = torch.sum(exp, dim=1).reshape(-1, 1)\n",
        "    return exp/exp_sum\n",
        "\n",
        "# Here, out should be the output of the network in the previous excercise with shape (64,10)\n",
        "probabilities = softmax(out)\n",
        "\n",
        "# Does it have the right shape? Should be (64, 10)\n",
        "print(probabilities.shape)\n",
        "# Does it sum to 1?\n",
        "print(probabilities.sum(dim=1))"
      ],
      "execution_count": 18,
      "outputs": [
        {
          "output_type": "stream",
          "text": [
            "torch.Size([64, 10])\n",
            "tensor([1., 1., 1., 1., 1., 1., 1., 1., 1., 1., 1., 1., 1., 1., 1., 1., 1., 1.,\n",
            "        1., 1., 1., 1., 1., 1., 1., 1., 1., 1., 1., 1., 1., 1., 1., 1., 1., 1.,\n",
            "        1., 1., 1., 1., 1., 1., 1., 1., 1., 1., 1., 1., 1., 1., 1., 1., 1., 1.,\n",
            "        1., 1., 1., 1., 1., 1., 1., 1., 1., 1.])\n"
          ],
          "name": "stdout"
        }
      ]
    },
    {
      "cell_type": "markdown",
      "metadata": {
        "id": "9NT5aPsBjDvl"
      },
      "source": [
        "## Building networks with PyTorch\n",
        "\n",
        "PyTorch provides a module `nn` that makes building networks much simpler. Here I'll show you how to build the same one as above with 784 inputs, 256 hidden units, 10 output units and a softmax output."
      ]
    },
    {
      "cell_type": "code",
      "metadata": {
        "collapsed": true,
        "id": "nu_Wdwf8jDvl"
      },
      "source": [
        "from torch import nn"
      ],
      "execution_count": 20,
      "outputs": []
    },
    {
      "cell_type": "code",
      "metadata": {
        "collapsed": true,
        "id": "xpQ3SIfcjDvm"
      },
      "source": [
        "class Network(nn.Module):\n",
        "    def __init__(self):\n",
        "        super().__init__()\n",
        "        \n",
        "        # Inputs to hidden layer linear transformation\n",
        "        self.hidden = nn.Linear(784, 256)\n",
        "        # Output layer, 10 units - one for each digit\n",
        "        self.output = nn.Linear(256, 10)\n",
        "        \n",
        "        # Define sigmoid activation and softmax output \n",
        "        self.sigmoid = nn.Sigmoid()\n",
        "        self.softmax = nn.Softmax(dim=1)\n",
        "        \n",
        "    def forward(self, x):\n",
        "        # Pass the input tensor through each of our operations\n",
        "        x = self.hidden(x)\n",
        "        x = self.sigmoid(x)\n",
        "        x = self.output(x)\n",
        "        x = self.softmax(x)\n",
        "        \n",
        "        return x"
      ],
      "execution_count": 21,
      "outputs": []
    },
    {
      "cell_type": "markdown",
      "metadata": {
        "id": "BqGVlg90jDvm"
      },
      "source": [
        "Let's go through this bit by bit.\n",
        "\n",
        "```python\n",
        "class Network(nn.Module):\n",
        "```\n",
        "\n",
        "Here we're inheriting from `nn.Module`. Combined with `super().__init__()` this creates a class that tracks the architecture and provides a lot of useful methods and attributes. It is mandatory to inherit from `nn.Module` when you're creating a class for your network. The name of the class itself can be anything.\n",
        "\n",
        "```python\n",
        "self.hidden = nn.Linear(784, 256)\n",
        "```\n",
        "\n",
        "This line creates a module for a linear transformation, $x\\mathbf{W} + b$, with 784 inputs and 256 outputs and assigns it to `self.hidden`. The module automatically creates the weight and bias tensors which we'll use in the `forward` method. You can access the weight and bias tensors once the network (`net`) is created with `net.hidden.weight` and `net.hidden.bias`.\n",
        "\n",
        "```python\n",
        "self.output = nn.Linear(256, 10)\n",
        "```\n",
        "\n",
        "Similarly, this creates another linear transformation with 256 inputs and 10 outputs.\n",
        "\n",
        "```python\n",
        "self.sigmoid = nn.Sigmoid()\n",
        "self.softmax = nn.Softmax(dim=1)\n",
        "```\n",
        "\n",
        "Here I defined operations for the sigmoid activation and softmax output. Setting `dim=1` in `nn.Softmax(dim=1)` calculates softmax across the columns.\n",
        "\n",
        "```python\n",
        "def forward(self, x):\n",
        "```\n",
        "\n",
        "PyTorch networks created with `nn.Module` must have a `forward` method defined. It takes in a tensor `x` and passes it through the operations you defined in the `__init__` method.\n",
        "\n",
        "```python\n",
        "x = self.hidden(x)\n",
        "x = self.sigmoid(x)\n",
        "x = self.output(x)\n",
        "x = self.softmax(x)\n",
        "```\n",
        "\n",
        "Here the input tensor `x` is passed through each operation and reassigned to `x`. We can see that the input tensor goes through the hidden layer, then a sigmoid function, then the output layer, and finally the softmax function. It doesn't matter what you name the variables here, as long as the inputs and outputs of the operations match the network architecture you want to build. The order in which you define things in the `__init__` method doesn't matter, but you'll need to sequence the operations correctly in the `forward` method.\n",
        "\n",
        "Now we can create a `Network` object."
      ]
    },
    {
      "cell_type": "code",
      "metadata": {
        "collapsed": true,
        "id": "aqY-c1XRjDvm",
        "colab": {
          "base_uri": "https://localhost:8080/"
        },
        "outputId": "b3e91292-c80d-4151-a7a1-87e421e246f8"
      },
      "source": [
        "# Create the network and look at its text representation\n",
        "model = Network()\n",
        "model"
      ],
      "execution_count": 22,
      "outputs": [
        {
          "output_type": "execute_result",
          "data": {
            "text/plain": [
              "Network(\n",
              "  (hidden): Linear(in_features=784, out_features=256, bias=True)\n",
              "  (output): Linear(in_features=256, out_features=10, bias=True)\n",
              "  (sigmoid): Sigmoid()\n",
              "  (softmax): Softmax(dim=1)\n",
              ")"
            ]
          },
          "metadata": {
            "tags": []
          },
          "execution_count": 22
        }
      ]
    },
    {
      "cell_type": "markdown",
      "metadata": {
        "id": "q_m6HZ54jDvo"
      },
      "source": [
        "You can define the network somewhat more concisely and clearly using the `torch.nn.functional` module. This is the most common way you'll see networks defined as many operations are simple element-wise functions. We normally import this module as `F`, `import torch.nn.functional as F`."
      ]
    },
    {
      "cell_type": "code",
      "metadata": {
        "collapsed": true,
        "id": "HlbeWD_7jDvp"
      },
      "source": [
        "import torch.nn.functional as F\n",
        "\n",
        "class Network(nn.Module):\n",
        "    def __init__(self):\n",
        "        super().__init__()\n",
        "        # Inputs to hidden layer linear transformation\n",
        "        self.hidden = nn.Linear(784, 256)\n",
        "        # Output layer, 10 units - one for each digit\n",
        "        self.output = nn.Linear(256, 10)\n",
        "        \n",
        "    def forward(self, x):\n",
        "        # Hidden layer with sigmoid activation\n",
        "        x = F.sigmoid(self.hidden(x))\n",
        "        # Output layer with softmax activation\n",
        "        x = F.softmax(self.output(x), dim=1)\n",
        "        \n",
        "        return x"
      ],
      "execution_count": 23,
      "outputs": []
    },
    {
      "cell_type": "markdown",
      "metadata": {
        "id": "UjWMYLVEjDvp"
      },
      "source": [
        "### Activation functions\n",
        "\n",
        "So far we've only been looking at the sigmoid activation function, but in general any function can be used as an activation function. The only requirement is that for a network to approximate a non-linear function, the activation functions must be non-linear. Here are a few more examples of common activation functions: Tanh (hyperbolic tangent), and ReLU (rectified linear unit).\n",
        "\n",
        "<img src=\"https://github.com/anirbanl/deep-learning-v2-pytorch/blob/master/intro-to-pytorch/assets/activation.png?raw=1\" width=700px>\n",
        "\n",
        "In practice, the ReLU function is used almost exclusively as the activation function for hidden layers."
      ]
    },
    {
      "cell_type": "markdown",
      "metadata": {
        "id": "3qGySjVjjDvp"
      },
      "source": [
        "### Your Turn to Build a Network\n",
        "\n",
        "<img src=\"https://github.com/anirbanl/deep-learning-v2-pytorch/blob/master/intro-to-pytorch/assets/mlp_mnist.png?raw=1\" width=600px>\n",
        "\n",
        "> **Exercise:** Create a network with 784 input units, a hidden layer with 128 units and a ReLU activation, then a hidden layer with 64 units and a ReLU activation, and finally an output layer with a softmax activation as shown above. You can use a ReLU activation with the `nn.ReLU` module or `F.relu` function.\n",
        "\n",
        "It's good practice to name your layers by their type of network, for instance 'fc' to represent a fully-connected layer. As you code your solution, use `fc1`, `fc2`, and `fc3` as your layer names."
      ]
    },
    {
      "cell_type": "code",
      "metadata": {
        "collapsed": true,
        "scrolled": true,
        "id": "U7H0g52zjDvp",
        "colab": {
          "base_uri": "https://localhost:8080/"
        },
        "outputId": "4ca168ec-bd85-4fe9-dbc9-9009aeed3941"
      },
      "source": [
        "## Your solution here\n",
        "\n",
        "import torch.nn.functional as F\n",
        "\n",
        "class MyNetwork(nn.Module):\n",
        "    def __init__(self):\n",
        "        super().__init__()\n",
        "        # Inputs to hidden layer linear transformation\n",
        "        self.fc1 = nn.Linear(784, 128)\n",
        "        self.fc2 = nn.Linear(128, 64)\n",
        "        # Output layer, 10 units - one for each digit\n",
        "        self.fc3 = nn.Linear(64, 10)\n",
        "        \n",
        "    def forward(self, x):\n",
        "        # Hidden layer with sigmoid activation\n",
        "        h1 = F.relu(self.fc1(x))\n",
        "        h2 = F.relu(self.fc2(h1))\n",
        "        # Output layer with softmax activation\n",
        "        x = F.softmax(self.fc3(h2), dim=1)\n",
        "        \n",
        "        return x\n",
        "\n",
        "model = MyNetwork()\n",
        "model"
      ],
      "execution_count": 33,
      "outputs": [
        {
          "output_type": "execute_result",
          "data": {
            "text/plain": [
              "MyNetwork(\n",
              "  (fc1): Linear(in_features=784, out_features=128, bias=True)\n",
              "  (fc2): Linear(in_features=128, out_features=64, bias=True)\n",
              "  (fc3): Linear(in_features=64, out_features=10, bias=True)\n",
              ")"
            ]
          },
          "metadata": {
            "tags": []
          },
          "execution_count": 33
        }
      ]
    },
    {
      "cell_type": "markdown",
      "metadata": {
        "id": "0i4CCjWnjDvq"
      },
      "source": [
        "### Initializing weights and biases\n",
        "\n",
        "The weights and such are automatically initialized for you, but it's possible to customize how they are initialized. The weights and biases are tensors attached to the layer you defined, you can get them with `model.fc1.weight` for instance."
      ]
    },
    {
      "cell_type": "code",
      "metadata": {
        "collapsed": true,
        "id": "pg068_0KjDvq",
        "colab": {
          "base_uri": "https://localhost:8080/"
        },
        "outputId": "b9629b27-7712-4920-8d67-24f289185c15"
      },
      "source": [
        "print(model.fc1.weight)\n",
        "print(model.fc1.bias)"
      ],
      "execution_count": 27,
      "outputs": [
        {
          "output_type": "stream",
          "text": [
            "Parameter containing:\n",
            "tensor([[-0.0152, -0.0282, -0.0239,  ...,  0.0274, -0.0271, -0.0348],\n",
            "        [ 0.0216,  0.0350, -0.0141,  ...,  0.0055, -0.0109,  0.0027],\n",
            "        [ 0.0073, -0.0164, -0.0194,  ..., -0.0326, -0.0023, -0.0019],\n",
            "        ...,\n",
            "        [-0.0323, -0.0175, -0.0119,  ..., -0.0231, -0.0337, -0.0014],\n",
            "        [ 0.0083, -0.0217,  0.0116,  ...,  0.0064,  0.0347,  0.0317],\n",
            "        [-0.0100,  0.0105, -0.0048,  ..., -0.0024, -0.0293,  0.0041]],\n",
            "       requires_grad=True)\n",
            "Parameter containing:\n",
            "tensor([-0.0317,  0.0301, -0.0298, -0.0138, -0.0147, -0.0279,  0.0206,  0.0155,\n",
            "         0.0191,  0.0206,  0.0184, -0.0218,  0.0245, -0.0120, -0.0245, -0.0257,\n",
            "        -0.0288, -0.0264,  0.0164,  0.0179, -0.0176, -0.0290, -0.0318, -0.0073,\n",
            "        -0.0208, -0.0113,  0.0259,  0.0242, -0.0166, -0.0334,  0.0306,  0.0235,\n",
            "        -0.0097,  0.0340, -0.0335, -0.0011,  0.0183, -0.0036,  0.0214,  0.0319,\n",
            "         0.0108, -0.0060,  0.0312,  0.0006, -0.0011, -0.0024,  0.0288, -0.0317,\n",
            "        -0.0277,  0.0316, -0.0278,  0.0127,  0.0322, -0.0130,  0.0144,  0.0238,\n",
            "         0.0329, -0.0127, -0.0084, -0.0250,  0.0021, -0.0157, -0.0150, -0.0117,\n",
            "         0.0325, -0.0101,  0.0017, -0.0210,  0.0083, -0.0185, -0.0174, -0.0202,\n",
            "         0.0129,  0.0138,  0.0178, -0.0059, -0.0137,  0.0061, -0.0097,  0.0052,\n",
            "         0.0291, -0.0246, -0.0292,  0.0146, -0.0152,  0.0308, -0.0171, -0.0177,\n",
            "        -0.0243, -0.0022, -0.0293,  0.0133,  0.0338,  0.0307, -0.0329,  0.0319,\n",
            "         0.0173,  0.0110, -0.0014,  0.0093, -0.0219,  0.0263, -0.0291, -0.0237,\n",
            "        -0.0112, -0.0224, -0.0281, -0.0136, -0.0019,  0.0173,  0.0231,  0.0315,\n",
            "        -0.0191, -0.0128,  0.0105,  0.0082, -0.0244,  0.0262, -0.0212,  0.0218,\n",
            "        -0.0220,  0.0119,  0.0355,  0.0213,  0.0295,  0.0006,  0.0173,  0.0259],\n",
            "       requires_grad=True)\n"
          ],
          "name": "stdout"
        }
      ]
    },
    {
      "cell_type": "markdown",
      "metadata": {
        "id": "o_KnyV1ljDvq"
      },
      "source": [
        "For custom initialization, we want to modify these tensors in place. These are actually autograd *Variables*, so we need to get back the actual tensors with `model.fc1.weight.data`. Once we have the tensors, we can fill them with zeros (for biases) or random normal values."
      ]
    },
    {
      "cell_type": "code",
      "metadata": {
        "collapsed": true,
        "id": "_kA8p9ffjDvq",
        "colab": {
          "base_uri": "https://localhost:8080/"
        },
        "outputId": "51758d0e-feaa-40b6-c922-f1272ea8e4bd"
      },
      "source": [
        "# Set biases to all zeros\n",
        "model.fc1.bias.data.fill_(0)"
      ],
      "execution_count": 28,
      "outputs": [
        {
          "output_type": "execute_result",
          "data": {
            "text/plain": [
              "tensor([0., 0., 0., 0., 0., 0., 0., 0., 0., 0., 0., 0., 0., 0., 0., 0., 0., 0., 0., 0., 0., 0., 0., 0.,\n",
              "        0., 0., 0., 0., 0., 0., 0., 0., 0., 0., 0., 0., 0., 0., 0., 0., 0., 0., 0., 0., 0., 0., 0., 0.,\n",
              "        0., 0., 0., 0., 0., 0., 0., 0., 0., 0., 0., 0., 0., 0., 0., 0., 0., 0., 0., 0., 0., 0., 0., 0.,\n",
              "        0., 0., 0., 0., 0., 0., 0., 0., 0., 0., 0., 0., 0., 0., 0., 0., 0., 0., 0., 0., 0., 0., 0., 0.,\n",
              "        0., 0., 0., 0., 0., 0., 0., 0., 0., 0., 0., 0., 0., 0., 0., 0., 0., 0., 0., 0., 0., 0., 0., 0.,\n",
              "        0., 0., 0., 0., 0., 0., 0., 0.])"
            ]
          },
          "metadata": {
            "tags": []
          },
          "execution_count": 28
        }
      ]
    },
    {
      "cell_type": "code",
      "metadata": {
        "collapsed": true,
        "id": "TySNJN6WjDvq",
        "colab": {
          "base_uri": "https://localhost:8080/"
        },
        "outputId": "c788dd1f-3d1a-4348-c649-a0f0f2da813f"
      },
      "source": [
        "# sample from random normal with standard dev = 0.01\n",
        "model.fc1.weight.data.normal_(std=0.01)"
      ],
      "execution_count": 29,
      "outputs": [
        {
          "output_type": "execute_result",
          "data": {
            "text/plain": [
              "tensor([[ 8.1477e-03,  8.5829e-03, -1.5352e-02,  ...,  4.7734e-03,\n",
              "          1.0711e-02, -1.2837e-02],\n",
              "        [-1.3992e-02, -3.7515e-03,  1.4413e-02,  ..., -7.6138e-04,\n",
              "          7.2058e-03, -7.3118e-03],\n",
              "        [-6.5891e-03,  5.9819e-03, -1.4216e-02,  ..., -1.5567e-03,\n",
              "          4.3847e-03, -2.4357e-02],\n",
              "        ...,\n",
              "        [-7.6515e-05, -1.4815e-02,  5.0035e-03,  ...,  1.5111e-02,\n",
              "          1.7144e-02, -6.8875e-03],\n",
              "        [ 7.3048e-03,  2.4337e-03, -1.2485e-02,  ...,  4.3142e-03,\n",
              "          6.6172e-03,  9.3379e-03],\n",
              "        [-4.5716e-03,  2.0788e-02, -9.4421e-03,  ...,  1.0104e-02,\n",
              "          7.2738e-03, -7.8045e-03]])"
            ]
          },
          "metadata": {
            "tags": []
          },
          "execution_count": 29
        }
      ]
    },
    {
      "cell_type": "markdown",
      "metadata": {
        "id": "A4anIOOmjDvr"
      },
      "source": [
        "### Forward pass\n",
        "\n",
        "Now that we have a network, let's see what happens when we pass in an image."
      ]
    },
    {
      "cell_type": "code",
      "metadata": {
        "collapsed": true,
        "id": "Zmyku0l6jDvr"
      },
      "source": [
        "# Grab some data \n",
        "dataiter = iter(trainloader)\n",
        "images, labels = dataiter.next()\n",
        "\n",
        "# Resize images into a 1D vector, new shape is (batch size, color channels, image pixels) \n",
        "images.resize_(64, 1, 784)\n",
        "# or images.resize_(images.shape[0], 1, 784) to automatically get batch size\n",
        "\n",
        "# Forward pass through the network\n",
        "img_idx = 0\n",
        "ps = model.forward(images[img_idx,:])\n",
        "\n",
        "img = images[img_idx]\n",
        "# helper.view_classify(img.view(1, 28, 28), ps)"
      ],
      "execution_count": 35,
      "outputs": []
    },
    {
      "cell_type": "markdown",
      "metadata": {
        "id": "575c2FVCjDvr"
      },
      "source": [
        "As you can see above, our network has basically no idea what this digit is. It's because we haven't trained it yet, all the weights are random!\n",
        "\n",
        "### Using `nn.Sequential`\n",
        "\n",
        "PyTorch provides a convenient way to build networks like this where a tensor is passed sequentially through operations, `nn.Sequential` ([documentation](https://pytorch.org/docs/master/nn.html#torch.nn.Sequential)). Using this to build the equivalent network:"
      ]
    },
    {
      "cell_type": "code",
      "metadata": {
        "collapsed": true,
        "id": "GhGOfZYmjDvr",
        "colab": {
          "base_uri": "https://localhost:8080/"
        },
        "outputId": "41601d37-5294-4d00-add0-e652ea69e337"
      },
      "source": [
        "# Hyperparameters for our network\n",
        "input_size = 784\n",
        "hidden_sizes = [128, 64]\n",
        "output_size = 10\n",
        "\n",
        "# Build a feed-forward network\n",
        "model = nn.Sequential(nn.Linear(input_size, hidden_sizes[0]),\n",
        "                      nn.ReLU(),\n",
        "                      nn.Linear(hidden_sizes[0], hidden_sizes[1]),\n",
        "                      nn.ReLU(),\n",
        "                      nn.Linear(hidden_sizes[1], output_size),\n",
        "                      nn.Softmax(dim=1))\n",
        "print(model)\n",
        "\n",
        "# Forward pass through the network and display output\n",
        "images, labels = next(iter(trainloader))\n",
        "images.resize_(images.shape[0], 1, 784)\n",
        "ps = model.forward(images[0,:])\n",
        "# helper.view_classify(images[0].view(1, 28, 28), ps)"
      ],
      "execution_count": 37,
      "outputs": [
        {
          "output_type": "stream",
          "text": [
            "Sequential(\n",
            "  (0): Linear(in_features=784, out_features=128, bias=True)\n",
            "  (1): ReLU()\n",
            "  (2): Linear(in_features=128, out_features=64, bias=True)\n",
            "  (3): ReLU()\n",
            "  (4): Linear(in_features=64, out_features=10, bias=True)\n",
            "  (5): Softmax(dim=1)\n",
            ")\n"
          ],
          "name": "stdout"
        }
      ]
    },
    {
      "cell_type": "markdown",
      "metadata": {
        "id": "kN6D-5eUjDvr"
      },
      "source": [
        "Here our model is the same as before: 784 input units, a hidden layer with 128 units, ReLU activation, 64 unit hidden layer, another ReLU, then the output layer with 10 units, and the softmax output.\n",
        "\n",
        "The operations are available by passing in the appropriate index. For example, if you want to get first Linear operation and look at the weights, you'd use `model[0]`."
      ]
    },
    {
      "cell_type": "code",
      "metadata": {
        "collapsed": true,
        "id": "wRY6p8sYjDvs",
        "colab": {
          "base_uri": "https://localhost:8080/"
        },
        "outputId": "b1d8059f-f700-4d46-f1ac-6f5b8ebac877"
      },
      "source": [
        "print(model[0])\n",
        "model[0].weight"
      ],
      "execution_count": 38,
      "outputs": [
        {
          "output_type": "stream",
          "text": [
            "Linear(in_features=784, out_features=128, bias=True)\n"
          ],
          "name": "stdout"
        },
        {
          "output_type": "execute_result",
          "data": {
            "text/plain": [
              "Parameter containing:\n",
              "tensor([[ 0.0333, -0.0107,  0.0322,  ...,  0.0271, -0.0077, -0.0336],\n",
              "        [ 0.0085,  0.0017,  0.0037,  ..., -0.0254, -0.0205, -0.0145],\n",
              "        [ 0.0140,  0.0056,  0.0319,  ...,  0.0244, -0.0309, -0.0045],\n",
              "        ...,\n",
              "        [ 0.0349, -0.0200,  0.0210,  ..., -0.0333,  0.0183, -0.0010],\n",
              "        [ 0.0229,  0.0204, -0.0195,  ..., -0.0226,  0.0153,  0.0343],\n",
              "        [ 0.0151, -0.0307,  0.0121,  ..., -0.0102, -0.0195,  0.0022]],\n",
              "       requires_grad=True)"
            ]
          },
          "metadata": {
            "tags": []
          },
          "execution_count": 38
        }
      ]
    },
    {
      "cell_type": "markdown",
      "metadata": {
        "id": "1-2w2cT4jDvs"
      },
      "source": [
        "You can also pass in an `OrderedDict` to name the individual layers and operations, instead of using incremental integers. Note that dictionary keys must be unique, so _each operation must have a different name_."
      ]
    },
    {
      "cell_type": "code",
      "metadata": {
        "collapsed": true,
        "id": "we6IPiLQjDvs",
        "colab": {
          "base_uri": "https://localhost:8080/"
        },
        "outputId": "4e9e1e76-7f56-4ba2-bcbe-265c47593f64"
      },
      "source": [
        "from collections import OrderedDict\n",
        "model = nn.Sequential(OrderedDict([\n",
        "                      ('fc1', nn.Linear(input_size, hidden_sizes[0])),\n",
        "                      ('relu1', nn.ReLU()),\n",
        "                      ('fc2', nn.Linear(hidden_sizes[0], hidden_sizes[1])),\n",
        "                      ('relu2', nn.ReLU()),\n",
        "                      ('output', nn.Linear(hidden_sizes[1], output_size)),\n",
        "                      ('softmax', nn.Softmax(dim=1))]))\n",
        "model"
      ],
      "execution_count": 39,
      "outputs": [
        {
          "output_type": "execute_result",
          "data": {
            "text/plain": [
              "Sequential(\n",
              "  (fc1): Linear(in_features=784, out_features=128, bias=True)\n",
              "  (relu1): ReLU()\n",
              "  (fc2): Linear(in_features=128, out_features=64, bias=True)\n",
              "  (relu2): ReLU()\n",
              "  (output): Linear(in_features=64, out_features=10, bias=True)\n",
              "  (softmax): Softmax(dim=1)\n",
              ")"
            ]
          },
          "metadata": {
            "tags": []
          },
          "execution_count": 39
        }
      ]
    },
    {
      "cell_type": "markdown",
      "metadata": {
        "id": "LWIQSq3NjDvs"
      },
      "source": [
        "Now you can access layers either by integer or the name"
      ]
    },
    {
      "cell_type": "code",
      "metadata": {
        "collapsed": true,
        "id": "YxeWbfi6jDvs",
        "colab": {
          "base_uri": "https://localhost:8080/"
        },
        "outputId": "ce0ee922-63a2-4437-e9b7-0d5065d7ee04"
      },
      "source": [
        "print(model[0])\n",
        "print(model.fc1)"
      ],
      "execution_count": 40,
      "outputs": [
        {
          "output_type": "stream",
          "text": [
            "Linear(in_features=784, out_features=128, bias=True)\n",
            "Linear(in_features=784, out_features=128, bias=True)\n"
          ],
          "name": "stdout"
        }
      ]
    },
    {
      "cell_type": "markdown",
      "metadata": {
        "id": "60TcXHMsjDvs"
      },
      "source": [
        "In the next notebook, we'll see how we can train a neural network to accuractly predict the numbers appearing in the MNIST images."
      ]
    }
  ]
}